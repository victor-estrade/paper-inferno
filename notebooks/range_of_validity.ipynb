{
 "cells": [
  {
   "cell_type": "code",
   "execution_count": null,
   "metadata": {},
   "outputs": [],
   "source": [
    "import numpy as np\n",
    "import matplotlib.pyplot as plt\n",
    "import matplotlib\n",
    "import tensorflow as tf\n",
    "from glob import glob\n",
    "repo_path = \"..\"\n",
    "import sys\n",
    "sys.path.append(f\"{repo_path}/code/\")\n",
    "\n",
    "from template_model import TemplateModel\n",
    "\n",
    "font = {'size'   : 14}\n",
    "\n",
    "matplotlib.rc('font', **font)\n",
    "figure = {'figsize'   : (12,8),\n",
    "          'max_open_warning': False}\n",
    "matplotlib.rc('figure', **figure)"
   ]
  },
  {
   "cell_type": "code",
   "execution_count": null,
   "metadata": {},
   "outputs": [],
   "source": [
    "inf_re = \"../data/models/b_2/ne_200_lr_1e-06_bs_1000_t_0.1/init_[0-9]\"\n",
    "clf_re = \"../data/models/cross_entropy/ne_200_lr_0.001_bs_32/init_[0-9]\"\n",
    "\n",
    "pars = [\"s_exp\",\"r_dist\",\"b_rate\"]"
   ]
  },
  {
   "cell_type": "code",
   "execution_count": null,
   "metadata": {},
   "outputs": [],
   "source": [
    "\n",
    "sess = tf.Session()\n",
    "\n",
    "r_dist_scan = np.linspace(1.7,2.3,13,endpoint=True)\n",
    "\n",
    "tm = TemplateModel ()\n",
    "\n",
    "inf_margs = {}\n",
    "for inf_path in glob(inf_re):\n",
    "  inf_margs[inf_path] = []\n",
    "  for r_dist in r_dist_scan:\n",
    "    tm.templates_from_json(f\"{inf_path}/templates.json\",\n",
    "                           r_dist=np.round([r_dist, r_dist+0.2,  r_dist-0.2],\n",
    "                                           decimals=2))\n",
    "    fisher_matrix = tm.asimov_hess(sess=sess)\n",
    "    inf_margs[inf_path].append(fisher_matrix.marginals(pars)[\"s_exp\"])\n",
    "    \n",
    "\n",
    "clf_margs = {}\n",
    "for clf_path in glob(clf_re):\n",
    "  clf_margs[clf_path] = []\n",
    "  for r_dist in r_dist_scan:\n",
    "    tm.templates_from_json(f\"{clf_path}/templates.json\",\n",
    "                           r_dist=np.round([r_dist, r_dist+0.2,  r_dist-0.2],\n",
    "                                           decimals=2))\n",
    "    fisher_matrix = tm.asimov_hess(sess=sess)\n",
    "    clf_margs[clf_path].append(fisher_matrix.marginals(pars)[\"s_exp\"])\n"
   ]
  },
  {
   "cell_type": "code",
   "execution_count": null,
   "metadata": {},
   "outputs": [],
   "source": [
    "fig, ax =  plt.subplots(figsize=(8,6))\n",
    "\n",
    "for inf_marg in inf_margs.values():\n",
    "  inf_line = ax.plot(r_dist_scan, inf_marg,\"b .\",alpha=0.5)\n",
    "  \n",
    "for clf_marg in clf_margs.values():\n",
    "  clf_line =  ax.plot(r_dist_scan, clf_marg,\"r .\",alpha=0.5)\n",
    "\n",
    "ax.set_xlabel(r\"$r$ value\")\n",
    "ax.set_ylabel(r\"expected uncertainty on $s$\")\n",
    "\n",
    "ax.set_ylim([16.,28.])\n",
    "\n",
    "ax.legend((clf_line[0], inf_line[0]), (\"cross-entropy\",\"inference-aware\"),\n",
    "          loc=\"upper center\",frameon=False)\n",
    "#fig.savefig(\"../paper/gfx/figure5a.pdf\",bbox_inches='tight')\n",
    "fig"
   ]
  },
  {
   "cell_type": "code",
   "execution_count": null,
   "metadata": {},
   "outputs": [],
   "source": [
    "\n",
    "sess = tf.Session()\n",
    "\n",
    "b_rate_scan = np.linspace(2.5,3.5,11,endpoint=True)\n",
    "\n",
    "\n",
    "tm = TemplateModel ()\n",
    "\n",
    "inf_margs = {}\n",
    "for inf_path in glob(inf_re):\n",
    "  inf_margs[inf_path] = []\n",
    "  for b_rate in b_rate_scan:\n",
    "    tm.templates_from_json(f\"{inf_path}/templates.json\",\n",
    "                           b_rate=np.round([b_rate, b_rate+0.5,  b_rate-0.5],\n",
    "                                           decimals=1))\n",
    "    fisher_matrix = tm.asimov_hess(sess=sess)\n",
    "    inf_margs[inf_path].append(fisher_matrix.marginals(pars)[\"s_exp\"])\n",
    "    \n",
    "\n",
    "clf_margs = {}\n",
    "for clf_path in glob(clf_re):\n",
    "  clf_margs[clf_path] = []\n",
    "  for b_rate in b_rate_scan:\n",
    "    tm.templates_from_json(f\"{clf_path}/templates.json\",\n",
    "                           b_rate=np.round([b_rate, b_rate+0.5,  b_rate-0.5],\n",
    "                                           decimals=1))\n",
    "    fisher_matrix = tm.asimov_hess(sess=sess)\n",
    "    clf_margs[clf_path].append(fisher_matrix.marginals(pars)[\"s_exp\"])"
   ]
  },
  {
   "cell_type": "code",
   "execution_count": null,
   "metadata": {},
   "outputs": [],
   "source": [
    "fig, ax =  plt.subplots(figsize=(8,6))\n",
    "\n",
    "for inf_marg in inf_margs.values():\n",
    "  inf_line = ax.plot(b_rate_scan, inf_marg,\"b .\",alpha=0.5)\n",
    "  \n",
    "for clf_marg in clf_margs.values():\n",
    "  clf_line = ax.plot(b_rate_scan, clf_marg,\"r .\",alpha=0.5)\n",
    "\n",
    "ax.set_xlabel(r\"$\\lambda$ value\")\n",
    "ax.set_ylabel(r\"expected uncertainty on $s$\")\n",
    "\n",
    "\n",
    "ax.set_ylim([16.,28.])\n",
    "ax.legend((clf_line[0], inf_line[0]), (\"cross-entropy\",\"inference-aware\"),\n",
    "          loc=\"upper center\",frameon=False)\n",
    "\n",
    "#fig.savefig(\"../paper/gfx/figure5b.pdf\",bbox_inches='tight')\n",
    "fig"
   ]
  },
  {
   "cell_type": "code",
   "execution_count": null,
   "metadata": {},
   "outputs": [],
   "source": []
  }
 ],
 "metadata": {
  "kernelspec": {
   "display_name": "Python 3",
   "language": "python",
   "name": "python3"
  },
  "language_info": {
   "codemirror_mode": {
    "name": "ipython",
    "version": 3
   },
   "file_extension": ".py",
   "mimetype": "text/x-python",
   "name": "python",
   "nbconvert_exporter": "python",
   "pygments_lexer": "ipython3",
   "version": "3.7.2"
  },
  "toc": {
   "nav_menu": {},
   "number_sections": false,
   "sideBar": true,
   "skip_h1_title": false,
   "toc_cell": false,
   "toc_position": {},
   "toc_section_display": "block",
   "toc_window_display": false
  }
 },
 "nbformat": 4,
 "nbformat_minor": 2
}
